{
 "cells": [
  {
   "cell_type": "code",
   "execution_count": 3,
   "id": "4340011b",
   "metadata": {},
   "outputs": [
    {
     "name": "stdout",
     "output_type": "stream",
     "text": [
      "First Number:\n",
      "2\n",
      "Operator (+, -, *, /):\n",
      "+\n",
      "Second Number:\n",
      "5\n",
      "Answer: 7.0\n"
     ]
    }
   ],
   "source": [
    "num1 = input(\"First Number:\\n\")\n",
    "operator = input(\"Operator (+, -, *, /):\\n\")\n",
    "num2 = input(\"Second Number:\\n\")\n",
    "\n",
    "num1 = float(num1)\n",
    "num2 = float(num2)\n",
    "\n",
    "out = None\n",
    "\n",
    "if operator == \"+\":\n",
    "    out =  num1 + num2\n",
    "elif operator == \"-\":\n",
    "    out = num1 - num2\n",
    "elif operator == \"*\":\n",
    "    out = num1 * num2\n",
    "elif operator == \"/\":\n",
    "    out = num1 / num2\n",
    "    \n",
    "print(\"Answer: \" + str(out))"
   ]
  },
  {
   "cell_type": "code",
   "execution_count": null,
   "id": "ad73750c",
   "metadata": {},
   "outputs": [],
   "source": []
  }
 ],
 "metadata": {
  "kernelspec": {
   "display_name": "Python 3",
   "language": "python",
   "name": "python3"
  },
  "language_info": {
   "codemirror_mode": {
    "name": "ipython",
    "version": 3
   },
   "file_extension": ".py",
   "mimetype": "text/x-python",
   "name": "python",
   "nbconvert_exporter": "python",
   "pygments_lexer": "ipython3",
   "version": "3.8.8"
  }
 },
 "nbformat": 4,
 "nbformat_minor": 5
}
